{
 "cells": [
  {
   "cell_type": "code",
   "execution_count": 5,
   "metadata": {},
   "outputs": [],
   "source": [
    "import cv2\n",
    "import matplotlib.pyplot as plt\n",
    "import numpy as np\n",
    "import os\n",
    "import grocerypathsim.parse_legend as lparse\n",
    "from grocerypathsim.shopping_lists import ShoppingListGen\n",
    "from grocerypathsim.parse_storelayout import StoreLayout\n",
    "from grocerypathsim.path_generator import PathGenerator\n",
    "from grocerypathsim.sim import *\n",
    "from scipy import stats"
   ]
  },
  {
   "cell_type": "code",
   "execution_count": 6,
   "metadata": {},
   "outputs": [],
   "source": [
    "image_data_dir = \"sampledata\"\n",
    "grocery_data_dir = # your path here"
   ]
  },
  {
   "cell_type": "code",
   "execution_count": 7,
   "metadata": {},
   "outputs": [],
   "source": [
    "# read legend image\n",
    "legend_fp = os.path.join(image_data_dir, \"SampleLegend.png\")\n",
    "legend = cv2.imread(legend_fp)"
   ]
  },
  {
   "cell_type": "markdown",
   "metadata": {},
   "source": [
    "## Parse Legend"
   ]
  },
  {
   "cell_type": "code",
   "execution_count": 11,
   "metadata": {},
   "outputs": [
    {
     "name": "stdout",
     "output_type": "stream",
     "text": [
      "['j produce', 'grocery', 'meatdairy', 'household', 'wi frozen', 'i checkout']\n"
     ]
    }
   ],
   "source": [
    "# get departments and manually repair\n",
    "dpts = lparse.get_department_labels(legend)\n",
    "print(dpts)\n",
    "# repair departments\n",
    "dpts = ['produce', 'grocery', 'meatdairy', 'household', 'frozen', 'checkout']"
   ]
  },
  {
   "cell_type": "code",
   "execution_count": 12,
   "metadata": {},
   "outputs": [
    {
     "data": {
      "image/png": "[encoded data removed]",
      "text/plain": [
       "<Figure size 432x288 with 1 Axes>"
      ]
     },
     "metadata": {
      "needs_background": "light"
     },
     "output_type": "display_data"
    }
   ],
   "source": [
    "# get dataframe of colors, plot to inspect and verify\n",
    "df = lparse.create_colormap_df(legend, dpts)\n",
    "lparse.plot_colormap(df)"
   ]
  },
  {
   "cell_type": "code",
   "execution_count": 13,
   "metadata": {},
   "outputs": [
    {
     "data": {
      "text/plain": [
       "<matplotlib.image.AxesImage at 0x7f7268bb50b8>"
      ]
     },
     "execution_count": 13,
     "metadata": {},
     "output_type": "execute_result"
    },
    {
     "data": {
      "image/png": "[encoded data removed]",
      "text/plain": [
       "<Figure size 432x288 with 1 Axes>"
      ]
     },
     "metadata": {
      "needs_background": "light"
     },
     "output_type": "display_data"
    }
   ],
   "source": [
    "# confirm that this looks close to the original legend image\n",
    "plt.imshow(cv2.cvtColor(legend, cv2.COLOR_BGR2RGB))"
   ]
  },
  {
   "cell_type": "code",
   "execution_count": 14,
   "metadata": {},
   "outputs": [],
   "source": [
    "# Optionally save out the legend for future use\n",
    "#df.to_csv(\"../legend_colormap.csv\", index=False)"
   ]
  },
  {
   "cell_type": "markdown",
   "metadata": {},
   "source": [
    "Looks good, let's keep going"
   ]
  },
  {
   "cell_type": "markdown",
   "metadata": {},
   "source": [
    "# Parse Store Layout(s)"
   ]
  },
  {
   "cell_type": "markdown",
   "metadata": {},
   "source": [
    "Here we'll parse 3 proposed store layouts to be compared. They all have the same legend, so the dataframe from the legend parsing step is passed into all 3."
   ]
  },
  {
   "cell_type": "code",
   "execution_count": 16,
   "metadata": {},
   "outputs": [],
   "source": [
    "layoutfp1 = os.path.join(image_data_dir, 'floorplan1.png')\n",
    "layoutfp2 = os.path.join(image_data_dir, 'floorplan2.png')\n",
    "layoutfp3 = os.path.join(image_data_dir, 'floorplan3.png')"
   ]
  },
  {
   "cell_type": "code",
   "execution_count": 17,
   "metadata": {},
   "outputs": [],
   "source": [
    "slayout1 = StoreLayout(layoutfp1, df)\n",
    "slayout2 = StoreLayout(layoutfp2, df)\n",
    "slayout3 = StoreLayout(layoutfp3, df)"
   ]
  },
  {
   "cell_type": "markdown",
   "metadata": {},
   "source": [
    "# Create Shopping Lists"
   ]
  },
  {
   "cell_type": "markdown",
   "metadata": {},
   "source": [
    "Create a generator object which produces realistic shopping lists for each customer, remapped to the departments from the proposed store layout legend."
   ]
  },
  {
   "cell_type": "code",
   "execution_count": 24,
   "metadata": {},
   "outputs": [
    {
     "data": {
      "text/plain": [
       "0      produce\n",
       "1      grocery\n",
       "2    meatdairy\n",
       "3    household\n",
       "4       frozen\n",
       "5     checkout\n",
       "Name: Department, dtype: object"
      ]
     },
     "execution_count": 24,
     "metadata": {},
     "output_type": "execute_result"
    }
   ],
   "source": [
    "# this is the departments from our legend by name and index\n",
    "df['Department']"
   ]
  },
  {
   "cell_type": "markdown",
   "metadata": {},
   "source": [
    "**This is how the mapping is created for this specific legend and the Instacart Dataset**  \n",
    "0 frozen --> 4 frozen    \n",
    "1 other --> 6 None  \n",
    "2 bakery --> 1 grocery  \n",
    "3 produce --> 0 produce  \n",
    "4 alcohol --> 6 None  \n",
    "...  \n",
    "\n",
    "  The mapping is stored as the indices of the right side. For example, [4, 6, 1, 0, 6, ...]  \n",
    "\n",
    "  \n",
    "  Any items mapped to category 6, \"None\", will be removed from the list. It denotes that the product isn't available in the store.\n"
   ]
  },
  {
   "cell_type": "code",
   "execution_count": 25,
   "metadata": {},
   "outputs": [],
   "source": [
    "# substitute mapping to match dataset and legend\n",
    "DPT_MAP = [4, 6, 1, 0, 6, 1, 1, 3, 1, 1, 3, 2, 1, 1, 1, 2, 3, 3, 1, 2, 6]\n",
    "DPTS = list(df['Department'])"
   ]
  },
  {
   "cell_type": "code",
   "execution_count": 26,
   "metadata": {},
   "outputs": [],
   "source": [
    "slg = ShoppingListGen(grocery_data_dir)"
   ]
  },
  {
   "cell_type": "markdown",
   "metadata": {},
   "source": [
    "# Path Generators"
   ]
  },
  {
   "cell_type": "code",
   "execution_count": 27,
   "metadata": {},
   "outputs": [],
   "source": [
    "pathgen1 = PathGenerator(slayout1)\n",
    "pathgen2 = PathGenerator(slayout2)\n",
    "pathgen3 = PathGenerator(slayout3)"
   ]
  },
  {
   "cell_type": "markdown",
   "metadata": {},
   "source": [
    "# Generate a Number of Customers"
   ]
  },
  {
   "cell_type": "markdown",
   "metadata": {},
   "source": [
    "Simulate results for a specific number of customers, where each generated customer gets items from each of the layouts represented in the input path generators. \n",
    "Using the A* algorithm for path generation will result in a significant slowdown, but more accurate results. "
   ]
  },
  {
   "cell_type": "code",
   "execution_count": 40,
   "metadata": {},
   "outputs": [],
   "source": [
    "path_generators = [pathgen1, pathgen2, pathgen3] # path generators for layouts to compare\n",
    "shopping_list_generator = slg # shopping list generator\n",
    "customers = 10000 # number of customers\n",
    "astarpathfinding = False # whether to use A* algorithm for path finding in addition to Euclidean distance\n",
    "display_iteration_times = False # whether to print the time passed for each iteration"
   ]
  },
  {
   "cell_type": "code",
   "execution_count": 41,
   "metadata": {},
   "outputs": [],
   "source": [
    "sim_results = simulate(path_generators, shopping_list_generator, customers, astarpathfinding, display_iteration_times)"
   ]
  },
  {
   "cell_type": "code",
   "execution_count": 42,
   "metadata": {},
   "outputs": [
    {
     "data": {
      "text/html": [
       "<div>\n",
       "<style scoped>\n",
       "    .dataframe tbody tr th:only-of-type {\n",
       "        vertical-align: middle;\n",
       "    }\n",
       "\n",
       "    .dataframe tbody tr th {\n",
       "        vertical-align: top;\n",
       "    }\n",
       "\n",
       "    .dataframe thead th {\n",
       "        text-align: right;\n",
       "    }\n",
       "</style>\n",
       "<table border=\"1\" class=\"dataframe\">\n",
       "  <thead>\n",
       "    <tr style=\"text-align: right;\">\n",
       "      <th></th>\n",
       "      <th>1euc</th>\n",
       "      <th>2euc</th>\n",
       "      <th>3euc</th>\n",
       "      <th>time (seconds)</th>\n",
       "      <th>list_length</th>\n",
       "    </tr>\n",
       "  </thead>\n",
       "  <tbody>\n",
       "    <tr>\n",
       "      <th>0</th>\n",
       "      <td>1826.919641</td>\n",
       "      <td>1658.648129</td>\n",
       "      <td>1798.864470</td>\n",
       "      <td>0</td>\n",
       "      <td>14</td>\n",
       "    </tr>\n",
       "    <tr>\n",
       "      <th>1</th>\n",
       "      <td>1717.043483</td>\n",
       "      <td>1865.890118</td>\n",
       "      <td>1156.809705</td>\n",
       "      <td>0</td>\n",
       "      <td>14</td>\n",
       "    </tr>\n",
       "    <tr>\n",
       "      <th>2</th>\n",
       "      <td>2509.942473</td>\n",
       "      <td>2079.711921</td>\n",
       "      <td>2377.245787</td>\n",
       "      <td>0</td>\n",
       "      <td>28</td>\n",
       "    </tr>\n",
       "    <tr>\n",
       "      <th>3</th>\n",
       "      <td>1603.803740</td>\n",
       "      <td>2094.054705</td>\n",
       "      <td>1158.481874</td>\n",
       "      <td>0</td>\n",
       "      <td>12</td>\n",
       "    </tr>\n",
       "    <tr>\n",
       "      <th>4</th>\n",
       "      <td>1401.968644</td>\n",
       "      <td>839.372715</td>\n",
       "      <td>1016.243100</td>\n",
       "      <td>0</td>\n",
       "      <td>8</td>\n",
       "    </tr>\n",
       "  </tbody>\n",
       "</table>\n",
       "</div>"
      ],
      "text/plain": [
       "          1euc         2euc         3euc  time (seconds)  list_length\n",
       "0  1826.919641  1658.648129  1798.864470               0           14\n",
       "1  1717.043483  1865.890118  1156.809705               0           14\n",
       "2  2509.942473  2079.711921  2377.245787               0           28\n",
       "3  1603.803740  2094.054705  1158.481874               0           12\n",
       "4  1401.968644   839.372715  1016.243100               0            8"
      ]
     },
     "execution_count": 42,
     "metadata": {},
     "output_type": "execute_result"
    }
   ],
   "source": [
    "sim_results.head()"
   ]
  },
  {
   "cell_type": "markdown",
   "metadata": {},
   "source": [
    "Layout numbers are represented by the order their path generators were put in. \"euc\" denotes Euclidean distance between points on the path. \"ast\" denotes A* path between points, which involves avoiding aisles. These columns exist only if astarpathfindng is True. Time is the computation time in seconds, which is typically only greater than 0 when A* is used. \"list_length\" is the number of items on the customer's grocery list."
   ]
  },
  {
   "cell_type": "markdown",
   "metadata": {},
   "source": [
    "# Results - Compare Path Lengths"
   ]
  },
  {
   "cell_type": "markdown",
   "metadata": {},
   "source": [
    "Create paired confidence intervals between each of the layouts. Input the results of the simulation (the dataframe output) and the columns to compare, which should be the different layout path lengths for the same distance metric."
   ]
  },
  {
   "cell_type": "code",
   "execution_count": 45,
   "metadata": {},
   "outputs": [],
   "source": [
    "alpha=.05 # (1-alpha)% Confidence interval\n",
    "comp12 = compute_paired_CI(sim_results, '1euc', '2euc', alpha)\n",
    "comp13 = compute_paired_CI(sim_results, '1euc', '3euc', alpha)\n",
    "comp23 = compute_paired_CI(sim_results, '2euc', '3euc', alpha)"
   ]
  },
  {
   "cell_type": "markdown",
   "metadata": {},
   "source": [
    "Now plot the results"
   ]
  },
  {
   "cell_type": "code",
   "execution_count": 48,
   "metadata": {},
   "outputs": [
    {
     "data": {
      "image/png": "[encoded data removed]",
      "text/plain": [
       "<Figure size 432x288 with 1 Axes>"
      ]
     },
     "metadata": {
      "needs_background": "light"
     },
     "output_type": "display_data"
    }
   ],
   "source": [
    "cis = [comp12, comp13, comp23] # Confidence intervals to plot\n",
    "ci_names = [\"Layout 1 vs 2\", \"Layout 1 vs 3\", \"Layout 2 vs 3\"] # Names of those CIs for the legend and axis labels\n",
    "distance_metric_used = \"Euclidean\" # Name of the distance metric this represents for the plot title\n",
    "plot_paired_CIs(cis, ci_names, distance_metric_used)"
   ]
  },
  {
   "cell_type": "markdown",
   "metadata": {},
   "source": [
    "From this we can say with 95% confidence that the mean path length using the Euclidean distance to measure paths for Layout 1 is higher than Layout 2, for Layout 1 is higher than for Layout 3, and for Layout 2 is higher than for Layout 3. We conclude that using the Euclidean distance Layout 1 generates the longest average customer path. Importantly, the path distance using A* paths is not always the same as the Eucidean distance, and the A* path is likely to be more accurate. However, it takes a very long time to run."
   ]
  },
  {
   "cell_type": "code",
   "execution_count": 50,
   "metadata": {},
   "outputs": [
    {
     "data": {
      "text/plain": [
       "'\\ncomp12 = compute_paired_CI(res_df, \\'1ast\\', \\'2ast\\')\\ncomp13 = compute_paired_CI(res_df, \\'1ast\\', \\'3ast\\')\\ncomp23 = compute_paired_CI(res_df, \\'2ast\\', \\'3ast\\')\\nplot_paired_CIs([comp12, comp13, comp23], [\"Layout 1 vs 2\", \"Layout 1 vs 3\", \"Layout 2 vs 3\"], \"A*\")\\n'"
      ]
     },
     "execution_count": 50,
     "metadata": {},
     "output_type": "execute_result"
    }
   ],
   "source": [
    "#Similar code for A* path length, if it's computed\n",
    "\"\"\"\n",
    "comp12 = compute_paired_CI(res_df, '1ast', '2ast')\n",
    "comp13 = compute_paired_CI(res_df, '1ast', '3ast')\n",
    "comp23 = compute_paired_CI(res_df, '2ast', '3ast')\n",
    "plot_paired_CIs([comp12, comp13, comp23], [\"Layout 1 vs 2\", \"Layout 1 vs 3\", \"Layout 2 vs 3\"], \"A*\")\n",
    "\"\"\""
   ]
  },
  {
   "cell_type": "markdown",
   "metadata": {},
   "source": [
    "# Look at an Example"
   ]
  },
  {
   "cell_type": "code",
   "execution_count": 63,
   "metadata": {},
   "outputs": [],
   "source": [
    "curr_grocery_list = next(slg)"
   ]
  },
  {
   "cell_type": "code",
   "execution_count": 64,
   "metadata": {},
   "outputs": [
    {
     "data": {
      "text/html": [
       "<div>\n",
       "<style scoped>\n",
       "    .dataframe tbody tr th:only-of-type {\n",
       "        vertical-align: middle;\n",
       "    }\n",
       "\n",
       "    .dataframe tbody tr th {\n",
       "        vertical-align: top;\n",
       "    }\n",
       "\n",
       "    .dataframe thead th {\n",
       "        text-align: right;\n",
       "    }\n",
       "</style>\n",
       "<table border=\"1\" class=\"dataframe\">\n",
       "  <thead>\n",
       "    <tr style=\"text-align: right;\">\n",
       "      <th></th>\n",
       "      <th>order_id</th>\n",
       "      <th>product_id</th>\n",
       "      <th>product_name</th>\n",
       "      <th>mapped_dpt</th>\n",
       "      <th>mapped_dpt_name</th>\n",
       "    </tr>\n",
       "  </thead>\n",
       "  <tbody>\n",
       "    <tr>\n",
       "      <th>712</th>\n",
       "      <td>1834363</td>\n",
       "      <td>10246</td>\n",
       "      <td>Organic Celery Hearts</td>\n",
       "      <td>0</td>\n",
       "      <td>produce</td>\n",
       "    </tr>\n",
       "    <tr>\n",
       "      <th>50473</th>\n",
       "      <td>1834363</td>\n",
       "      <td>30391</td>\n",
       "      <td>Organic Cucumber</td>\n",
       "      <td>0</td>\n",
       "      <td>produce</td>\n",
       "    </tr>\n",
       "    <tr>\n",
       "      <th>65851</th>\n",
       "      <td>1834363</td>\n",
       "      <td>39275</td>\n",
       "      <td>Organic Blueberries</td>\n",
       "      <td>0</td>\n",
       "      <td>produce</td>\n",
       "    </tr>\n",
       "    <tr>\n",
       "      <th>124953</th>\n",
       "      <td>1834363</td>\n",
       "      <td>11182</td>\n",
       "      <td>Baby Spinach</td>\n",
       "      <td>0</td>\n",
       "      <td>produce</td>\n",
       "    </tr>\n",
       "    <tr>\n",
       "      <th>300628</th>\n",
       "      <td>1834363</td>\n",
       "      <td>42701</td>\n",
       "      <td>Organic Sour Cream</td>\n",
       "      <td>2</td>\n",
       "      <td>meatdairy</td>\n",
       "    </tr>\n",
       "    <tr>\n",
       "      <th>540591</th>\n",
       "      <td>1834363</td>\n",
       "      <td>9839</td>\n",
       "      <td>Organic Broccoli</td>\n",
       "      <td>0</td>\n",
       "      <td>produce</td>\n",
       "    </tr>\n",
       "    <tr>\n",
       "      <th>586568</th>\n",
       "      <td>1834363</td>\n",
       "      <td>33705</td>\n",
       "      <td>New York Cheddar Potato Chips</td>\n",
       "      <td>1</td>\n",
       "      <td>grocery</td>\n",
       "    </tr>\n",
       "    <tr>\n",
       "      <th>856943</th>\n",
       "      <td>1834363</td>\n",
       "      <td>39001</td>\n",
       "      <td>Organic Avocados Hass Variety</td>\n",
       "      <td>0</td>\n",
       "      <td>produce</td>\n",
       "    </tr>\n",
       "    <tr>\n",
       "      <th>1141450</th>\n",
       "      <td>1834363</td>\n",
       "      <td>36149</td>\n",
       "      <td>Beast Burger</td>\n",
       "      <td>4</td>\n",
       "      <td>frozen</td>\n",
       "    </tr>\n",
       "    <tr>\n",
       "      <th>1146621</th>\n",
       "      <td>1834363</td>\n",
       "      <td>22525</td>\n",
       "      <td>Dried Strawberries</td>\n",
       "      <td>1</td>\n",
       "      <td>grocery</td>\n",
       "    </tr>\n",
       "    <tr>\n",
       "      <th>1236087</th>\n",
       "      <td>1834363</td>\n",
       "      <td>44883</td>\n",
       "      <td>Fudge Brownie Gluten Free Cookie Dough</td>\n",
       "      <td>1</td>\n",
       "      <td>grocery</td>\n",
       "    </tr>\n",
       "  </tbody>\n",
       "</table>\n",
       "</div>"
      ],
      "text/plain": [
       "         order_id  product_id                            product_name  \\\n",
       "712       1834363       10246                   Organic Celery Hearts   \n",
       "50473     1834363       30391                        Organic Cucumber   \n",
       "65851     1834363       39275                     Organic Blueberries   \n",
       "124953    1834363       11182                            Baby Spinach   \n",
       "300628    1834363       42701                      Organic Sour Cream   \n",
       "540591    1834363        9839                        Organic Broccoli   \n",
       "586568    1834363       33705           New York Cheddar Potato Chips   \n",
       "856943    1834363       39001           Organic Avocados Hass Variety   \n",
       "1141450   1834363       36149                            Beast Burger   \n",
       "1146621   1834363       22525                      Dried Strawberries   \n",
       "1236087   1834363       44883  Fudge Brownie Gluten Free Cookie Dough   \n",
       "\n",
       "         mapped_dpt mapped_dpt_name  \n",
       "712               0         produce  \n",
       "50473             0         produce  \n",
       "65851             0         produce  \n",
       "124953            0         produce  \n",
       "300628            2       meatdairy  \n",
       "540591            0         produce  \n",
       "586568            1         grocery  \n",
       "856943            0         produce  \n",
       "1141450           4          frozen  \n",
       "1146621           1         grocery  \n",
       "1236087           1         grocery  "
      ]
     },
     "execution_count": 64,
     "metadata": {},
     "output_type": "execute_result"
    }
   ],
   "source": [
    "curr_grocery_list"
   ]
  },
  {
   "cell_type": "code",
   "execution_count": 65,
   "metadata": {},
   "outputs": [],
   "source": [
    "# choose where each of these items lie within their departments\n",
    "pix_coords = pathgen1.generate_pixel_coordinates(curr_grocery_list)\n",
    "# create a visitation order probabilistically\n",
    "ordered, euc_dist = pathgen1.order_coords(pix_coords)\n",
    "# find the A* path \n",
    "full_path, astar_dist = pathgen1.calc_path_astar(ordered)"
   ]
  },
  {
   "cell_type": "code",
   "execution_count": 66,
   "metadata": {},
   "outputs": [
    {
     "data": {
      "image/png": "[encoded data removed]",
      "text/plain": [
       "<Figure size 432x288 with 1 Axes>"
      ]
     },
     "metadata": {
      "needs_background": "light"
     },
     "output_type": "display_data"
    },
    {
     "data": {
      "image/png": "[encoded data removed]",
      "text/plain": [
       "<Figure size 432x288 with 1 Axes>"
      ]
     },
     "metadata": {
      "needs_background": "light"
     },
     "output_type": "display_data"
    }
   ],
   "source": [
    "pathgen1.plot_astar_path(full_path, ordered)\n",
    "pathgen1.plot_euclidean_path(ordered)"
   ]
  }
 ],
 "metadata": {
  "kernelspec": {
   "display_name": "Python 3",
   "language": "python",
   "name": "python3"
  },
  "language_info": {
   "codemirror_mode": {
    "name": "ipython",
    "version": 3
   },
   "file_extension": ".py",
   "mimetype": "text/x-python",
   "name": "python",
   "nbconvert_exporter": "python",
   "pygments_lexer": "ipython3",
   "version": "3.7.3"
  }
 },
 "nbformat": 4,
 "nbformat_minor": 4
}
